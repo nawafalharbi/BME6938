{
  "nbformat": 4,
  "nbformat_minor": 0,
  "metadata": {
    "colab": {
      "name": "MLP&CNN_CIFAR10.ipynb",
      "version": "0.3.2",
      "provenance": [],
      "collapsed_sections": []
    },
    "kernelspec": {
      "name": "python3",
      "display_name": "Python 3"
    },
    "accelerator": "GPU"
  },
  "cells": [
    {
      "metadata": {
        "id": "35w0uzJP6FUU",
        "colab_type": "text"
      },
      "cell_type": "markdown",
      "source": [
        "# Multi-layer Perceptron   for CIFAR10 Data Set\n"
      ]
    },
    {
      "metadata": {
        "id": "IItRP60_5-Ob",
        "colab_type": "code",
        "outputId": "3bb1e6e3-f057-4846-e885-49af130af636",
        "colab": {
          "base_uri": "https://localhost:8080/",
          "height": 34
        }
      },
      "cell_type": "code",
      "source": [
        "import numpy as np\n",
        "from keras.datasets import cifar10\n",
        "from keras.models import Sequential\n",
        "from keras.layers import Dense\n",
        "from keras.layers import Dropout\n",
        "from keras.utils import np_utils\n",
        "from keras.models import Model\n",
        "import matplotlib.pyplot as plt\n",
        "from keras.layers import Input, Add, Dense, Activation, ZeroPadding2D, BatchNormalization, Flatten, Conv2D, AveragePooling2D, MaxPooling2D, GlobalMaxPooling2D\n",
        "from keras.initializers import glorot_uniform"
      ],
      "execution_count": 0,
      "outputs": [
        {
          "output_type": "stream",
          "text": [
            "Using TensorFlow backend.\n"
          ],
          "name": "stderr"
        }
      ]
    },
    {
      "metadata": {
        "id": "0ZRkpgvc6YI6",
        "colab_type": "code",
        "colab": {}
      },
      "cell_type": "code",
      "source": [
        "# fix random seed for reproducibility\n",
        "seed = 7\n",
        "np.random.seed(seed)"
      ],
      "execution_count": 0,
      "outputs": []
    },
    {
      "metadata": {
        "id": "weoppLvq6b1q",
        "colab_type": "code",
        "outputId": "0f7c6f3a-e3e0-4214-eb13-b92f701b72bf",
        "colab": {
          "base_uri": "https://localhost:8080/",
          "height": 303
        }
      },
      "cell_type": "code",
      "source": [
        "# load (downloaded if needed) the CIFAR10 dataset\n",
        "\n",
        "(X_train, y_train), (X_test, y_test) =  cifar10.load_data()\n",
        "# plot 4 images as gray scale\n",
        "plt.subplot(221)\n",
        "plt.imshow(X_train[0], cmap=plt.get_cmap('gray'))\n",
        "plt.subplot(222)\n",
        "plt.imshow(X_train[1], cmap=plt.get_cmap('gray'))\n",
        "plt.subplot(223)\n",
        "plt.imshow(X_train[2], cmap=plt.get_cmap('gray'))\n",
        "plt.subplot(224)\n",
        "plt.imshow(X_train[3], cmap=plt.get_cmap('gray'))\n",
        "# show the plot\n",
        "plt.show()"
      ],
      "execution_count": 0,
      "outputs": [
        {
          "output_type": "stream",
          "text": [
            "Downloading data from https://www.cs.toronto.edu/~kriz/cifar-10-python.tar.gz\n",
            "170500096/170498071 [==============================] - 32s 0us/step\n"
          ],
          "name": "stdout"
        },
        {
          "output_type": "display_data",
          "data": {
            "image/png": "[encoded data removed]",
            "text/plain": [
              "<Figure size 432x288 with 4 Axes>"
            ]
          },
          "metadata": {
            "tags": []
          }
        }
      ]
    },
    {
      "metadata": {
        "id": "5bo2jLT66uEL",
        "colab_type": "code",
        "colab": {}
      },
      "cell_type": "code",
      "source": [
        "# flatten 32*32*3 images to a 3072 vector for each image\n",
        "num_pixels = X_train.shape[1] * X_train.shape[2]*X_train.shape[3]\n",
        "X_train = X_train.reshape(X_train.shape[0], num_pixels).astype('float32')\n",
        "X_test = X_test.reshape(X_test.shape[0], num_pixels).astype('float32')"
      ],
      "execution_count": 0,
      "outputs": []
    },
    {
      "metadata": {
        "id": "ozdxp6lE6tkj",
        "colab_type": "code",
        "colab": {}
      },
      "cell_type": "code",
      "source": [
        "# normalize inputs from 0-255 to 0-1\n",
        "X_train = X_train / 255\n",
        "X_test = X_test / 255"
      ],
      "execution_count": 0,
      "outputs": []
    },
    {
      "metadata": {
        "id": "JIpVLkCQ6t8T",
        "colab_type": "code",
        "colab": {}
      },
      "cell_type": "code",
      "source": [
        "# one hot encode outputs\n",
        "y_train = np_utils.to_categorical(y_train)\n",
        "y_test = np_utils.to_categorical(y_test)\n",
        "num_classes = y_test.shape[1]\n"
      ],
      "execution_count": 0,
      "outputs": []
    },
    {
      "metadata": {
        "id": "c8YVizfk6uMD",
        "colab_type": "code",
        "colab": {}
      },
      "cell_type": "code",
      "source": [
        "# define baseline model\n",
        "def baseline_model():\n",
        "\t# create model\n",
        "\tmodel = Sequential()\n",
        "\tmodel.add(Dense(num_pixels, input_dim=num_pixels, kernel_initializer='normal', activation='relu'))\n",
        "\tmodel.add(Dense(num_classes, kernel_initializer='normal', activation='softmax'))\n",
        "\t# Compile model\n",
        "\tmodel.compile(loss='categorical_crossentropy', optimizer='adam', metrics=['accuracy'])\n",
        "\treturn model"
      ],
      "execution_count": 0,
      "outputs": []
    },
    {
      "metadata": {
        "id": "IHVdu4Bh7XiM",
        "colab_type": "code",
        "outputId": "d78f7eb6-f5dd-4bfb-f1b7-80ee0148c5b4",
        "colab": {
          "base_uri": "https://localhost:8080/",
          "height": 1071
        }
      },
      "cell_type": "code",
      "source": [
        "# build the model\n",
        "model = baseline_model()\n",
        "# Fit the model\n",
        "history= model.fit(X_train, y_train, validation_data=(X_test, y_test), epochs=30, batch_size=200, verbose=2)\n",
        "# Final evaluation of the model\n",
        "scores = model.evaluate(X_test, y_test, verbose=0)\n",
        "print(\"Base line Error: %.2f%%\" %(100-scores[1]*100))"
      ],
      "execution_count": 0,
      "outputs": [
        {
          "output_type": "stream",
          "text": [
            "Train on 50000 samples, validate on 10000 samples\n",
            "Epoch 1/30\n",
            " - 5s - loss: 12.1978 - acc: 0.1425 - val_loss: 11.8742 - val_acc: 0.1548\n",
            "Epoch 2/30\n",
            " - 5s - loss: 11.9169 - acc: 0.1658 - val_loss: 11.7786 - val_acc: 0.1642\n",
            "Epoch 3/30\n",
            " - 5s - loss: 11.7113 - acc: 0.1791 - val_loss: 11.6547 - val_acc: 0.1752\n",
            "Epoch 4/30\n",
            " - 5s - loss: 11.7139 - acc: 0.1760 - val_loss: 11.5363 - val_acc: 0.2001\n",
            "Epoch 5/30\n",
            " - 5s - loss: 11.6325 - acc: 0.1876 - val_loss: 11.5429 - val_acc: 0.1989\n",
            "Epoch 6/30\n",
            " - 5s - loss: 11.5990 - acc: 0.1890 - val_loss: 11.5224 - val_acc: 0.2014\n",
            "Epoch 7/30\n",
            " - 5s - loss: 11.5294 - acc: 0.2023 - val_loss: 11.5415 - val_acc: 0.1934\n",
            "Epoch 8/30\n",
            " - 5s - loss: 11.5532 - acc: 0.1961 - val_loss: 11.5273 - val_acc: 0.1948\n",
            "Epoch 9/30\n",
            " - 5s - loss: 11.4316 - acc: 0.1995 - val_loss: 10.3045 - val_acc: 0.1612\n",
            "Epoch 10/30\n",
            " - 5s - loss: 7.1213 - acc: 0.2643 - val_loss: 1.8640 - val_acc: 0.3319\n",
            "Epoch 11/30\n",
            " - 5s - loss: 1.7128 - acc: 0.3897 - val_loss: 1.6911 - val_acc: 0.3984\n",
            "Epoch 12/30\n",
            " - 5s - loss: 1.6179 - acc: 0.4262 - val_loss: 1.6130 - val_acc: 0.4235\n",
            "Epoch 13/30\n",
            " - 5s - loss: 1.5637 - acc: 0.4461 - val_loss: 1.5530 - val_acc: 0.4466\n",
            "Epoch 14/30\n",
            " - 5s - loss: 1.5139 - acc: 0.4632 - val_loss: 1.5233 - val_acc: 0.4648\n",
            "Epoch 15/30\n",
            " - 5s - loss: 1.4855 - acc: 0.4727 - val_loss: 1.4970 - val_acc: 0.4645\n",
            "Epoch 16/30\n",
            " - 5s - loss: 1.4643 - acc: 0.4835 - val_loss: 1.4934 - val_acc: 0.4693\n",
            "Epoch 17/30\n",
            " - 5s - loss: 1.4355 - acc: 0.4939 - val_loss: 1.4653 - val_acc: 0.4826\n",
            "Epoch 18/30\n",
            " - 5s - loss: 1.4121 - acc: 0.5040 - val_loss: 1.4973 - val_acc: 0.4656\n",
            "Epoch 19/30\n",
            " - 5s - loss: 1.4090 - acc: 0.5021 - val_loss: 1.4556 - val_acc: 0.4842\n",
            "Epoch 20/30\n",
            " - 5s - loss: 1.3824 - acc: 0.5139 - val_loss: 1.4770 - val_acc: 0.4716\n",
            "Epoch 21/30\n",
            " - 5s - loss: 1.3744 - acc: 0.5148 - val_loss: 1.4437 - val_acc: 0.4940\n",
            "Epoch 22/30\n",
            " - 5s - loss: 1.3491 - acc: 0.5258 - val_loss: 1.4553 - val_acc: 0.4903\n",
            "Epoch 23/30\n",
            " - 5s - loss: 1.3373 - acc: 0.5298 - val_loss: 1.4402 - val_acc: 0.4914\n",
            "Epoch 24/30\n",
            " - 5s - loss: 1.3110 - acc: 0.5381 - val_loss: 1.4445 - val_acc: 0.4956\n",
            "Epoch 25/30\n",
            " - 5s - loss: 1.3034 - acc: 0.5413 - val_loss: 1.4243 - val_acc: 0.4965\n",
            "Epoch 26/30\n",
            " - 5s - loss: 1.2920 - acc: 0.5452 - val_loss: 1.4446 - val_acc: 0.4881\n",
            "Epoch 27/30\n",
            " - 5s - loss: 1.2840 - acc: 0.5467 - val_loss: 1.4399 - val_acc: 0.4916\n",
            "Epoch 28/30\n",
            " - 5s - loss: 1.2707 - acc: 0.5519 - val_loss: 1.4691 - val_acc: 0.4833\n",
            "Epoch 29/30\n",
            " - 5s - loss: 1.2604 - acc: 0.5545 - val_loss: 1.4191 - val_acc: 0.5002\n",
            "Epoch 30/30\n",
            " - 5s - loss: 1.2387 - acc: 0.5649 - val_loss: 1.4504 - val_acc: 0.4864\n",
            "Base line Error: 51.36%\n"
          ],
          "name": "stdout"
        }
      ]
    },
    {
      "metadata": {
        "id": "bZ3kPRlbdpr9",
        "colab_type": "code",
        "outputId": "6714d2c4-6003-4b07-d518-06990827de0a",
        "colab": {
          "base_uri": "https://localhost:8080/",
          "height": 573
        }
      },
      "cell_type": "code",
      "source": [
        "def plot_train_and_val(history):\n",
        "  plt.plot(history.history['acc'])\n",
        "  plt.plot(history.history['val_acc'])\n",
        "  plt.title('model accuracy')\n",
        "  plt.ylabel('accuracy')\n",
        "  plt.xlabel('epoch')\n",
        "  plt.legend(['train','validation'],loc='upper left') \n",
        "  plt.show()\n",
        "  plt.plot(history.history['loss'])\n",
        "  plt.plot(history.history['val_loss'])\n",
        "  plt.title('model loss')\n",
        "  plt.ylabel('loss')\n",
        "  plt.xlabel('epoch')\n",
        "  plt.legend(['train','validation'],loc='upper left')\n",
        "  plt.show()\n",
        "\n",
        "\n",
        "plot_train_and_val(history)"
      ],
      "execution_count": 25,
      "outputs": [
        {
          "output_type": "display_data",
          "data": {
            "image/png": "[encoded data removed]",
            "text/plain": [
              "<Figure size 432x288 with 1 Axes>"
            ]
          },
          "metadata": {
            "tags": []
          }
        },
        {
          "output_type": "display_data",
          "data": {
            "image/png": "[encoded data removed]",
            "text/plain": [
              "<Figure size 432x288 with 1 Axes>"
            ]
          },
          "metadata": {
            "tags": []
          }
        }
      ]
    },
    {
      "metadata": {
        "id": "LbNqJuNM-Ar5",
        "colab_type": "text"
      },
      "cell_type": "markdown",
      "source": [
        "# CNN   for CIFAR10 Data Set\n"
      ]
    },
    {
      "metadata": {
        "id": "q6ff_dB27iRD",
        "colab_type": "code",
        "colab": {}
      },
      "cell_type": "code",
      "source": [
        "import numpy as np\n",
        "from keras.datasets import cifar10\n",
        "from keras.models import Sequential\n",
        "from keras.layers import Dense\n",
        "from keras.layers import Dropout\n",
        "from keras.layers import Flatten\n",
        "from keras.layers.convolutional import Conv2D\n",
        "from keras.layers.convolutional import MaxPooling2D\n",
        "from keras.utils import np_utils\n",
        "from keras import backend as K"
      ],
      "execution_count": 0,
      "outputs": []
    },
    {
      "metadata": {
        "id": "Z8j2RW7U-n8k",
        "colab_type": "code",
        "colab": {}
      },
      "cell_type": "code",
      "source": [
        "# fix random seed for reproducibility\n",
        "seed = 7\n",
        "np.random.seed(seed)\n",
        "# load data\n",
        "(X_train, y_train), (X_test, y_test) = cifar10.load_data()\n",
        "# reshape to be [samples][pixels][width][height]\n",
        "X_train = X_train.reshape(X_train.shape[0], 32, 32, 3).astype('float32')\n",
        "X_test = X_test.reshape(X_test.shape[0], 32, 32, 3).astype('float32')\n",
        "\n",
        "# normalize inputs from 0-255 to 0-1\n",
        "X_train = X_train / 255\n",
        "X_test = X_test / 255\n",
        "# one hot encode outputs\n",
        "y_train = np_utils.to_categorical(y_train)\n",
        "y_test = np_utils.to_categorical(y_test)\n",
        "num_classes = y_test.shape[1]\n"
      ],
      "execution_count": 0,
      "outputs": []
    },
    {
      "metadata": {
        "id": "4WXLi3SS_Dnk",
        "colab_type": "code",
        "colab": {}
      },
      "cell_type": "code",
      "source": [
        "def baseline_model():\n",
        "\t# create model\n",
        "\tmodel = Sequential()\n",
        "\tmodel.add(Conv2D(32, (3, 3), input_shape=(32, 32, 3), activation='relu'))\n",
        "\tmodel.add(MaxPooling2D(pool_size=(2, 2)))\n",
        "\tmodel.add(Dropout(0.2))\n",
        "\tmodel.add(Flatten())\n",
        "\tmodel.add(Dense(128, activation='relu'))\n",
        "\tmodel.add(Dense(num_classes, activation='softmax'))\n",
        "\t# Compile model\n",
        "\tmodel.compile(loss='categorical_crossentropy', optimizer='adam', metrics=['accuracy'])\n",
        "\treturn model"
      ],
      "execution_count": 0,
      "outputs": []
    },
    {
      "metadata": {
        "id": "0ApsTpqJA1E5",
        "colab_type": "code",
        "outputId": "43f84666-2723-42b0-bb3c-9af1cd5c6f34",
        "colab": {
          "base_uri": "https://localhost:8080/",
          "height": 1071
        }
      },
      "cell_type": "code",
      "source": [
        "# build the model\n",
        "model = baseline_model()\n",
        "# Fit the model\n",
        "model.fit(X_train, y_train, validation_data=(X_test, y_test), epochs=30, batch_size=200, verbose=2)\n",
        "# Final evaluation of the model\n",
        "scores = model.evaluate(X_test, y_test, verbose=0)\n",
        "print(\"CNN Error: %.2f%%\" % (100-scores[1]*100))"
      ],
      "execution_count": 29,
      "outputs": [
        {
          "output_type": "stream",
          "text": [
            "Train on 50000 samples, validate on 10000 samples\n",
            "Epoch 1/30\n",
            " - 4s - loss: 1.8119 - acc: 0.3595 - val_loss: 1.5099 - val_acc: 0.4608\n",
            "Epoch 2/30\n",
            " - 4s - loss: 1.4209 - acc: 0.4988 - val_loss: 1.3570 - val_acc: 0.5155\n",
            "Epoch 3/30\n",
            " - 4s - loss: 1.2987 - acc: 0.5424 - val_loss: 1.2579 - val_acc: 0.5608\n",
            "Epoch 4/30\n",
            " - 4s - loss: 1.2285 - acc: 0.5722 - val_loss: 1.2296 - val_acc: 0.5677\n",
            "Epoch 5/30\n",
            " - 4s - loss: 1.1768 - acc: 0.5899 - val_loss: 1.1842 - val_acc: 0.5864\n",
            "Epoch 6/30\n",
            " - 4s - loss: 1.1305 - acc: 0.6058 - val_loss: 1.1472 - val_acc: 0.6012\n",
            "Epoch 7/30\n",
            " - 4s - loss: 1.0963 - acc: 0.6166 - val_loss: 1.1240 - val_acc: 0.6081\n",
            "Epoch 8/30\n",
            " - 4s - loss: 1.0600 - acc: 0.6312 - val_loss: 1.1034 - val_acc: 0.6148\n",
            "Epoch 9/30\n",
            " - 4s - loss: 1.0348 - acc: 0.6407 - val_loss: 1.0882 - val_acc: 0.6191\n",
            "Epoch 10/30\n",
            " - 4s - loss: 1.0012 - acc: 0.6512 - val_loss: 1.0694 - val_acc: 0.6332\n",
            "Epoch 11/30\n",
            " - 4s - loss: 0.9805 - acc: 0.6604 - val_loss: 1.0590 - val_acc: 0.6349\n",
            "Epoch 12/30\n",
            " - 4s - loss: 0.9601 - acc: 0.6673 - val_loss: 1.0414 - val_acc: 0.6351\n",
            "Epoch 13/30\n",
            " - 4s - loss: 0.9396 - acc: 0.6735 - val_loss: 1.0816 - val_acc: 0.6210\n",
            "Epoch 14/30\n",
            " - 4s - loss: 0.9191 - acc: 0.6820 - val_loss: 1.0184 - val_acc: 0.6427\n",
            "Epoch 15/30\n",
            " - 4s - loss: 0.9058 - acc: 0.6880 - val_loss: 1.0431 - val_acc: 0.6399\n",
            "Epoch 16/30\n",
            " - 4s - loss: 0.8856 - acc: 0.6935 - val_loss: 1.0089 - val_acc: 0.6561\n",
            "Epoch 17/30\n",
            " - 4s - loss: 0.8717 - acc: 0.6970 - val_loss: 1.0235 - val_acc: 0.6488\n",
            "Epoch 18/30\n",
            " - 4s - loss: 0.8685 - acc: 0.6991 - val_loss: 1.0028 - val_acc: 0.6558\n",
            "Epoch 19/30\n",
            " - 4s - loss: 0.8493 - acc: 0.7053 - val_loss: 0.9979 - val_acc: 0.6582\n",
            "Epoch 20/30\n",
            " - 4s - loss: 0.8363 - acc: 0.7077 - val_loss: 1.0701 - val_acc: 0.6325\n",
            "Epoch 21/30\n",
            " - 4s - loss: 0.8246 - acc: 0.7157 - val_loss: 0.9860 - val_acc: 0.6616\n",
            "Epoch 22/30\n",
            " - 4s - loss: 0.8076 - acc: 0.7182 - val_loss: 0.9825 - val_acc: 0.6650\n",
            "Epoch 23/30\n",
            " - 4s - loss: 0.7984 - acc: 0.7226 - val_loss: 0.9792 - val_acc: 0.6668\n",
            "Epoch 24/30\n",
            " - 4s - loss: 0.7826 - acc: 0.7278 - val_loss: 1.0007 - val_acc: 0.6623\n",
            "Epoch 25/30\n",
            " - 4s - loss: 0.7765 - acc: 0.7300 - val_loss: 1.0042 - val_acc: 0.6574\n",
            "Epoch 26/30\n",
            " - 4s - loss: 0.7656 - acc: 0.7331 - val_loss: 0.9936 - val_acc: 0.6660\n",
            "Epoch 27/30\n",
            " - 4s - loss: 0.7524 - acc: 0.7379 - val_loss: 0.9859 - val_acc: 0.6671\n",
            "Epoch 28/30\n",
            " - 4s - loss: 0.7465 - acc: 0.7392 - val_loss: 0.9902 - val_acc: 0.6653\n",
            "Epoch 29/30\n",
            " - 4s - loss: 0.7384 - acc: 0.7426 - val_loss: 0.9997 - val_acc: 0.6615\n",
            "Epoch 30/30\n",
            " - 4s - loss: 0.7329 - acc: 0.7446 - val_loss: 1.0119 - val_acc: 0.6593\n",
            "CNN Error: 34.07%\n"
          ],
          "name": "stdout"
        }
      ]
    },
    {
      "metadata": {
        "id": "luSiGgQEfLGv",
        "colab_type": "code",
        "colab": {
          "base_uri": "https://localhost:8080/",
          "height": 573
        },
        "outputId": "af450d18-c1b0-4687-9f3c-7410220ffc1f"
      },
      "cell_type": "code",
      "source": [
        "def plot_train_and_val(history):\n",
        "  plt.plot(history.history['acc'])\n",
        "  plt.plot(history.history['val_acc'])\n",
        "  plt.title('model accuracy')\n",
        "  plt.ylabel('accuracy')\n",
        "  plt.xlabel('epoch')\n",
        "  plt.legend(['train','validation'],loc='upper left') \n",
        "  plt.show()\n",
        "  plt.plot(history.history['loss'])\n",
        "  plt.plot(history.history['val_loss'])\n",
        "  plt.title('model loss')\n",
        "  plt.ylabel('loss')\n",
        "  plt.xlabel('epoch')\n",
        "  plt.legend(['train','validation'],loc='upper left')\n",
        "  plt.show()\n",
        "\n",
        "\n",
        "plot_train_and_val(history)"
      ],
      "execution_count": 30,
      "outputs": [
        {
          "output_type": "display_data",
          "data": {
            "image/png": "[encoded data removed]",
            "text/plain": [
              "<Figure size 432x288 with 1 Axes>"
            ]
          },
          "metadata": {
            "tags": []
          }
        },
        {
          "output_type": "display_data",
          "data": {
            "image/png": "[encoded data removed]",
            "text/plain": [
              "<Figure size 432x288 with 1 Axes>"
            ]
          },
          "metadata": {
            "tags": []
          }
        }
      ]
    },
    {
      "metadata": {
        "id": "3ch1_o0qwSIA",
        "colab_type": "code",
        "colab": {}
      },
      "cell_type": "code",
      "source": [
        "def identity_block(X, f, filters, stage, block):\n",
        "    \"\"\"\n",
        "    Implementation of the identity block as defined in Figure 3\n",
        "    \n",
        "    Arguments:\n",
        "    X -- input tensor of shape (m, n_H_prev, n_W_prev, n_C_prev)\n",
        "    f -- integer, specifying the shape of the middle CONV's window for the main path\n",
        "    filters -- python list of integers, defining the number of filters in the CONV layers of the main path\n",
        "    stage -- integer, used to name the layers, depending on their position in the network\n",
        "    block -- string/character, used to name the layers, depending on their position in the network\n",
        "    \n",
        "    Returns:\n",
        "    X -- output of the identity block, tensor of shape (n_H, n_W, n_C)\n",
        "    \"\"\"\n",
        "    \n",
        "    # defining name basis\n",
        "    conv_name_base = 'res' + str(stage) + block + '_branch'\n",
        "    bn_name_base = 'bn' + str(stage) + block + '_branch'\n",
        "    \n",
        "    # Retrieve Filters\n",
        "    F1, F2, F3 = filters\n",
        "    \n",
        "    # Save the input value. You'll need this later to add back to the main path. \n",
        "    X_shortcut = X\n",
        "    \n",
        "    # First component of main path\n",
        "    X = Conv2D(filters = F1, kernel_size = (1, 1), strides = (1,1), padding = 'valid', name = conv_name_base + '2a', kernel_initializer = glorot_uniform(seed=0))(X)\n",
        "    X = BatchNormalization(axis = 3, name = bn_name_base + '2a')(X)\n",
        "    X = Activation('relu')(X)\n",
        "\n",
        "    \n",
        "    # Second component of main path (≈3 lines)\n",
        "    X = Conv2D(filters = F2, kernel_size = (f, f), strides = (1,1), padding = 'same', name = conv_name_base + '2b', kernel_initializer = glorot_uniform(seed=0))(X)\n",
        "    X = BatchNormalization(axis = 3, name = bn_name_base + '2b')(X)\n",
        "    X = Activation('relu')(X)\n",
        "\n",
        "    # Third component of main path (≈2 lines)\n",
        "    X = Conv2D(filters = F3, kernel_size = (1, 1), strides = (1,1), padding = 'valid', name = conv_name_base + '2c', kernel_initializer = glorot_uniform(seed=0))(X)\n",
        "    X = BatchNormalization(axis = 3, name = bn_name_base + '2c')(X)\n",
        "\n",
        "    # Final step: Add shortcut value to main path, and pass it through a RELU activation (≈2 lines)\n",
        "    X = Add()([X, X_shortcut])\n",
        "    X = Activation('relu')(X)\n",
        "    \n",
        "    \n",
        "    return X"
      ],
      "execution_count": 0,
      "outputs": []
    },
    {
      "metadata": {
        "id": "4aCOGT68wIjV",
        "colab_type": "code",
        "colab": {}
      },
      "cell_type": "code",
      "source": [
        "def convolutional_block(X, f, filters, stage, block, s = 2):\n",
        "    \"\"\"\n",
        "    Implementation of the convolutional block as defined in Figure 4\n",
        "    \n",
        "    Arguments:\n",
        "    X -- input tensor of shape (m, n_H_prev, n_W_prev, n_C_prev)\n",
        "    f -- integer, specifying the shape of the middle CONV's window for the main path\n",
        "    filters -- python list of integers, defining the number of filters in the CONV layers of the main path\n",
        "    stage -- integer, used to name the layers, depending on their position in the network\n",
        "    block -- string/character, used to name the layers, depending on their position in the network\n",
        "    s -- Integer, specifying the stride to be used\n",
        "    \n",
        "    Returns:\n",
        "    X -- output of the convolutional block, tensor of shape (n_H, n_W, n_C)\n",
        "    \"\"\"\n",
        "    \n",
        "    # defining name basis\n",
        "    conv_name_base = 'res' + str(stage) + block + '_branch'\n",
        "    bn_name_base = 'bn' + str(stage) + block + '_branch'\n",
        "    \n",
        "    # Retrieve Filters\n",
        "    F1, F2, F3 = filters\n",
        "    \n",
        "    # Save the input value\n",
        "    X_shortcut = X\n",
        "\n",
        "\n",
        "    ##### MAIN PATH #####\n",
        "    # First component of main path \n",
        "    X = Conv2D(F1, (1, 1), strides = (s,s), name = conv_name_base + '2a', kernel_initializer = glorot_uniform(seed=0))(X)\n",
        "    X = BatchNormalization(axis = 3, name = bn_name_base + '2a')(X)\n",
        "    X = Activation('relu')(X)\n",
        "\n",
        "    # Second component of main path (≈3 lines)\n",
        "    X = Conv2D(filters = F2, kernel_size = (f, f), strides = (1,1), padding = 'same', name = conv_name_base + '2b', kernel_initializer = glorot_uniform(seed=0))(X)\n",
        "    X = BatchNormalization(axis = 3, name = bn_name_base + '2b')(X)\n",
        "    X = Activation('relu')(X)\n",
        "\n",
        "\n",
        "    # Third component of main path (≈2 lines)\n",
        "    X = Conv2D(filters = F3, kernel_size = (1, 1), strides = (1,1), padding = 'valid', name = conv_name_base + '2c', kernel_initializer = glorot_uniform(seed=0))(X)\n",
        "    X = BatchNormalization(axis = 3, name = bn_name_base + '2c')(X)\n",
        "\n",
        "\n",
        "    ##### SHORTCUT PATH #### (≈2 lines)\n",
        "    X_shortcut = Conv2D(filters = F3, kernel_size = (1, 1), strides = (s,s), padding = 'valid', name = conv_name_base + '1',\n",
        "                        kernel_initializer = glorot_uniform(seed=0))(X_shortcut)\n",
        "    X_shortcut = BatchNormalization(axis = 3, name = bn_name_base + '1')(X_shortcut)\n",
        "\n",
        "    # Final step: Add shortcut value to main path, and pass it through a RELU activation (≈2 lines)\n",
        "    X = Add()([X, X_shortcut])\n",
        "    X = Activation('relu')(X)\n",
        "    \n",
        "    \n",
        "    return X"
      ],
      "execution_count": 0,
      "outputs": []
    },
    {
      "metadata": {
        "id": "n49zWknGLNoT",
        "colab_type": "text"
      },
      "cell_type": "markdown",
      "source": [
        "since accuracy of CNN is low we need to optimze the cnn by using resnet "
      ]
    },
    {
      "metadata": {
        "id": "lyYWiCDFLZYC",
        "colab_type": "code",
        "colab": {}
      },
      "cell_type": "code",
      "source": [
        "\n",
        "def ResNet50(input_shape=(32, 32, 3), classes=num_classes):\n",
        "    \"\"\"\n",
        "    Implementation of the popular ResNet50 the following architecture:\n",
        "    CONV2D -> BATCHNORM -> RELU -> MAXPOOL -> CONVBLOCK -> IDBLOCK*2 -> CONVBLOCK -> IDBLOCK*3\n",
        "    -> CONVBLOCK -> IDBLOCK*5 -> CONVBLOCK -> IDBLOCK*2 -> AVGPOOL -> TOPLAYER\n",
        "\n",
        "    Arguments:\n",
        "    input_shape -- shape of the images of the dataset\n",
        "    classes -- integer, number of classes\n",
        "\n",
        "    Returns:\n",
        "    model -- a Model() instance in Keras\n",
        "    \"\"\"\n",
        "\n",
        "    # Define the input as a tensor with shape input_shape\n",
        "    X_input = Input(input_shape)\n",
        "\n",
        "    # Zero-Padding\n",
        "    X = ZeroPadding2D((3, 3))(X_input)\n",
        "\n",
        "    # Stage 1\n",
        "    X = Conv2D(64, (7, 7), strides=(2, 2), name='conv1', kernel_initializer=glorot_uniform(seed=0))(X)\n",
        "    X = BatchNormalization(axis=3, name='bn_conv1')(X)\n",
        "    X = Activation('relu')(X)\n",
        "    X = MaxPooling2D((3, 3), strides=(2, 2))(X)\n",
        "\n",
        "    # Stage 2\n",
        "    X = convolutional_block(X, f=3, filters=[64, 64, 256], stage=2, block='a', s=1)\n",
        "    X = identity_block(X, 3, [64, 64, 256], stage=2, block='b')\n",
        "    X = identity_block(X, 3, [64, 64, 256], stage=2, block='c')\n",
        "\n",
        "    ### START CODE HERE ###\n",
        "\n",
        "    # Stage 3 (≈4 lines)\n",
        "    X = convolutional_block(X, f = 3, filters = [128, 128, 512], stage = 3, block='a', s = 2)\n",
        "    X = identity_block(X, 3, [128, 128, 512], stage=3, block='b')\n",
        "    X = identity_block(X, 3, [128, 128, 512], stage=3, block='c')\n",
        "    X = identity_block(X, 3, [128, 128, 512], stage=3, block='d')\n",
        "\n",
        "    # Stage 4 (≈6 lines)\n",
        "    X = convolutional_block(X, f = 3, filters = [256, 256, 1024], stage = 4, block='a', s = 2)\n",
        "    X = identity_block(X, 3, [256, 256, 1024], stage=4, block='b')\n",
        "    X = identity_block(X, 3, [256, 256, 1024], stage=4, block='c')\n",
        "    X = identity_block(X, 3, [256, 256, 1024], stage=4, block='d')\n",
        "    X = identity_block(X, 3, [256, 256, 1024], stage=4, block='e')\n",
        "    X = identity_block(X, 3, [256, 256, 1024], stage=4, block='f')\n",
        "\n",
        "    # Stage 5 (≈3 lines)\n",
        "    X = convolutional_block(X, f = 3, filters = [512, 512, 2048], stage = 5, block='a', s = 2)\n",
        "    X = identity_block(X, 3, [512, 512, 2048], stage=5, block='b')\n",
        "    X = identity_block(X, 3, [512, 512, 2048], stage=5, block='c')\n",
        "\n",
        "    # AVGPOOL (≈1 line). Use \"X = AveragePooling2D(...)(X)\"\n",
        "    #X = AveragePooling2D((2,2), name=\"avg_pool\")(X)\n",
        "\n",
        "    ### END CODE HERE ###\n",
        "\n",
        "    # output layer\n",
        "    X = Flatten()(X)\n",
        "    X = Dense(classes, activation='softmax', name='fc' + str(classes), kernel_initializer = glorot_uniform(seed=0))(X)\n",
        "    \n",
        "    \n",
        "    # Create model\n",
        "    model = Model(inputs = X_input, outputs = X, name='ResNet50')\n",
        "\n",
        "    return model"
      ],
      "execution_count": 0,
      "outputs": []
    },
    {
      "metadata": {
        "id": "UslPgntDM3Qe",
        "colab_type": "code",
        "outputId": "66d9c0ad-6a9d-49b5-a12c-1d55160f0aef",
        "colab": {
          "base_uri": "https://localhost:8080/",
          "height": 153
        }
      },
      "cell_type": "code",
      "source": [
        "# build the model\n",
        "model = ResNet50(input_shape = (32, 32, 3), classes = num_classes)\n",
        "model.compile(optimizer='adam', loss='categorical_crossentropy', metrics=['accuracy'])\n",
        "# Fit the model\n",
        "model.fit(X_train, y_train, validation_data=(X_test, y_test), epochs=30, batch_size=32, verbose=2)\n",
        "# Final evaluation of the model\n",
        "scores = model.evaluate(X_test, y_test, verbose=0)\n",
        "print(\"CNN Error: %.2f%%\" % (100-scores[1]*100))"
      ],
      "execution_count": 0,
      "outputs": [
        {
          "output_type": "stream",
          "text": [
            "Train on 50000 samples, validate on 10000 samples\n",
            "Epoch 1/30\n",
            " - 321s - loss: 2.4500 - acc: 0.2560 - val_loss: 2.5244 - val_acc: 0.2620\n",
            "Epoch 2/30\n",
            " - 306s - loss: 2.1214 - acc: 0.3560 - val_loss: 1.6861 - val_acc: 0.3959\n",
            "Epoch 3/30\n",
            " - 307s - loss: 2.2233 - acc: 0.3273 - val_loss: 1.9094 - val_acc: 0.3215\n",
            "Epoch 4/30\n"
          ],
          "name": "stdout"
        }
      ]
    },
    {
      "metadata": {
        "id": "AweFEQulXDvh",
        "colab_type": "code",
        "outputId": "6a7478db-1e59-45b8-a56d-cf742ce047ff",
        "colab": {
          "base_uri": "https://localhost:8080/",
          "height": 573
        }
      },
      "cell_type": "code",
      "source": [
        "def plot_train_and_val(history):\n",
        "  plt.plot(history.history['acc'])\n",
        "  plt.plot(history.history['val_acc'])\n",
        "  plt.title('model accuracy')\n",
        "  plt.ylabel('accuracy')\n",
        "  plt.xlabel('epoch')\n",
        "  plt.legend(['train','validation'],loc='upper left') \n",
        "  plt.show()\n",
        "  plt.plot(history.history['loss'])\n",
        "  plt.plot(history.history['val_loss'])\n",
        "  plt.title('model loss')\n",
        "  plt.ylabel('loss')\n",
        "  plt.xlabel('epoch')\n",
        "  plt.legend(['train','validation'],loc='upper left')\n",
        "  plt.show()\n",
        "\n",
        "\n",
        "plot_train_and_val(history)"
      ],
      "execution_count": 0,
      "outputs": [
        {
          "output_type": "display_data",
          "data": {
            "image/png": "[encoded data removed]",
            "text/plain": [
              "<Figure size 432x288 with 1 Axes>"
            ]
          },
          "metadata": {
            "tags": []
          }
        },
        {
          "output_type": "display_data",
          "data": {
            "image/png": "[encoded data removed]",
            "text/plain": [
              "<Figure size 432x288 with 1 Axes>"
            ]
          },
          "metadata": {
            "tags": []
          }
        }
      ]
    },
    {
      "metadata": {
        "id": "zvUw81FqXI6k",
        "colab_type": "code",
        "colab": {}
      },
      "cell_type": "code",
      "source": [
        ""
      ],
      "execution_count": 0,
      "outputs": []
    }
  ]
}